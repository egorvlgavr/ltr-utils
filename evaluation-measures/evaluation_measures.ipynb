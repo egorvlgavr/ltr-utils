{
 "cells": [
  {
   "cell_type": "code",
   "execution_count": 50,
   "metadata": {},
   "outputs": [],
   "source": [
    "import math\n",
    "import pandas"
   ]
  },
  {
   "cell_type": "code",
   "execution_count": 79,
   "metadata": {},
   "outputs": [],
   "source": [
    "reranked = [0, 1, 4 ,2]\n",
    "max_rank = 4"
   ]
  },
  {
   "cell_type": "code",
   "execution_count": 80,
   "metadata": {},
   "outputs": [
    {
     "name": "stdout",
     "output_type": "stream",
     "text": [
      "===== Reranked ====\n",
      "   rel_i       DG\n",
      "0      0  0.00000\n",
      "1      1  0.63093\n",
      "2      4  7.50000\n",
      "3      2  1.29203\n",
      "===== Ideal ====\n",
      "   rel_i        IDG\n",
      "0      4  15.000000\n",
      "1      2   1.892789\n",
      "2      1   0.500000\n",
      "3      0   0.000000\n",
      "===== Result ====\n",
      "DCG=9.42, Ideal DCG=17.39, NDCG=0.54\n"
     ]
    }
   ],
   "source": [
    "def d_g(rank_list):\n",
    "    return [(pow(2, rel) - 1)/(math.log2(i + 2)) for i, rel in enumerate(rank_list)]\n",
    "\n",
    "\n",
    "DG = d_g(reranked)\n",
    "ideal = sorted(reranked, reverse=True)\n",
    "IDG = d_g(ideal)\n",
    "\n",
    "DCG = sum(DG)\n",
    "IDCG = sum(IDG)\n",
    "NDCG = DCG / IDCG \n",
    "\n",
    "df_dcg = pandas.DataFrame({\n",
    "   'rel_i': reranked,\n",
    "   'DG': DG\n",
    "})\n",
    "df_idcg = pandas.DataFrame({\n",
    "   'rel_i': ideal,\n",
    "   'IDG': IDG\n",
    "})\n",
    "\n",
    "print(\"===== Reranked ====\")\n",
    "print(df_dcg)\n",
    "print(\"===== Ideal ====\")\n",
    "print(df_idcg)\n",
    "print(\"===== Result ====\")\n",
    "print('DCG={:.2f}, Ideal DCG={:.2f}, NDCG={:.2f}'.format(DCG, IDCG, NDCG))"
   ]
  },
  {
   "cell_type": "code",
   "execution_count": 81,
   "metadata": {},
   "outputs": [
    {
     "name": "stdout",
     "output_type": "stream",
     "text": [
      "[0, 1, 4, 2]\n",
      "ERR=0.33\n",
      "===== Iterations ====\n",
      "   probability       ERR\n",
      "0     1.000000  0.000000\n",
      "1     0.937500  0.031250\n",
      "2     0.058594  0.292969\n",
      "3     0.047607  0.002747\n"
     ]
    }
   ],
   "source": [
    "ERR = 0.0\n",
    "err_list = []\n",
    "prob_step_down = 1.0\n",
    "prob_list = []\n",
    "    \n",
    "for r, rel in enumerate(reranked):\n",
    "    r += 1\n",
    "    R = (pow(2, rel) - 1) / pow(2, max_rank)\n",
    "    err_step = prob_step_down * R / r\n",
    "    ERR += err_step\n",
    "    err_list.append(err_step)\n",
    "\n",
    "    prob_step_down *= (1 - R)\n",
    "    prob_list.append(prob_step_down)\n",
    "    \n",
    "df_ERR = pandas.DataFrame({\n",
    "   'probability': prob_list,\n",
    "   'ERR': err_list\n",
    "})\n",
    "print(reranked)\n",
    "print('ERR={:.2f}'.format(ERR))\n",
    "print(\"===== Iterations ====\")\n",
    "print(df_ERR)"
   ]
  },
  {
   "cell_type": "code",
   "execution_count": 63,
   "metadata": {},
   "outputs": [
    {
     "name": "stdout",
     "output_type": "stream",
     "text": [
      "Precision=1.00\n"
     ]
    }
   ],
   "source": [
    "precision = sum(1 for rank in reranked if rank > 0) / len(reranked)\n",
    "print('Precision={:.2f}'.format(precision))"
   ]
  },
  {
   "cell_type": "code",
   "execution_count": null,
   "metadata": {},
   "outputs": [],
   "source": []
  }
 ],
 "metadata": {
  "kernelspec": {
   "display_name": "Python 3",
   "language": "python",
   "name": "python3"
  },
  "language_info": {
   "codemirror_mode": {
    "name": "ipython",
    "version": 3
   },
   "file_extension": ".py",
   "mimetype": "text/x-python",
   "name": "python",
   "nbconvert_exporter": "python",
   "pygments_lexer": "ipython3",
   "version": "3.6.5"
  }
 },
 "nbformat": 4,
 "nbformat_minor": 2
}
