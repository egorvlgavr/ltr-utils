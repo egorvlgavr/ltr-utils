{
 "cells": [
  {
   "cell_type": "code",
   "execution_count": 13,
   "metadata": {},
   "outputs": [],
   "source": [
    "import math\n",
    "import pandas"
   ]
  },
  {
   "cell_type": "markdown",
   "metadata": {},
   "source": [
    "|Juggments|id|\n",
    "|--------|--|\n",
    "|4|pp1|\n",
    "|0|pp2|\n",
    "|3|pp3|\n",
    "|1|pp4|\n",
    "\n",
    "$$Reranking\\ result=[pp3, pp2, pp1, pp4]$$\n",
    "$$k=4$$"
   ]
  },
  {
   "cell_type": "code",
   "execution_count": 18,
   "metadata": {},
   "outputs": [],
   "source": [
    "reranked = [3, 0, 4 ,1]\n",
    "max_rank = 4"
   ]
  },
  {
   "cell_type": "markdown",
   "metadata": {},
   "source": [
    "$$Precision@k=\\frac{number\\ of\\ relevant}{total\\ number}$$"
   ]
  },
  {
   "cell_type": "code",
   "execution_count": 19,
   "metadata": {},
   "outputs": [
    {
     "name": "stdout",
     "output_type": "stream",
     "text": [
      "Precision=0.75\n"
     ]
    }
   ],
   "source": [
    "precision = sum(1 for rank in reranked if rank > 0) / len(reranked)\n",
    "print('Precision={:.2f}'.format(precision))"
   ]
  },
  {
   "cell_type": "markdown",
   "metadata": {},
   "source": [
    "$$NDCG@k=\\frac{DCG@k}{Ideal\\ DCG@k}$$\n",
    "$$DCG@k=\\sum_{i=1}^k \\frac{2^{rel_i}-1}{log_2(i+1)}$$"
   ]
  },
  {
   "cell_type": "code",
   "execution_count": 20,
   "metadata": {},
   "outputs": [
    {
     "name": "stdout",
     "output_type": "stream",
     "text": [
      "===== Reranked ====\n",
      "   rel_i        DG\n",
      "0      3  7.000000\n",
      "1      0  0.000000\n",
      "2      4  7.500000\n",
      "3      1  0.430677\n",
      "===== Ideal ====\n",
      "   rel_i        IDG\n",
      "0      4  15.000000\n",
      "1      3   4.416508\n",
      "2      1   0.500000\n",
      "3      0   0.000000\n",
      "===== Result ====\n",
      "DCG=14.93, Ideal DCG=19.92, NDCG=0.75\n"
     ]
    }
   ],
   "source": [
    "def d_g(rank_list):\n",
    "    return [(pow(2, rel) - 1)/(math.log2(i + 2)) for i, rel in enumerate(rank_list)]\n",
    "\n",
    "\n",
    "DG = d_g(reranked)\n",
    "ideal = sorted(reranked, reverse=True)\n",
    "IDG = d_g(ideal)\n",
    "\n",
    "DCG = sum(DG)\n",
    "IDCG = sum(IDG)\n",
    "NDCG = DCG / IDCG \n",
    "\n",
    "df_dcg = pandas.DataFrame({\n",
    "   'rel_i': reranked,\n",
    "   'DG': DG\n",
    "})\n",
    "df_idcg = pandas.DataFrame({\n",
    "   'rel_i': ideal,\n",
    "   'IDG': IDG\n",
    "})\n",
    "\n",
    "print(\"===== Reranked ====\")\n",
    "print(df_dcg)\n",
    "print(\"===== Ideal ====\")\n",
    "print(df_idcg)\n",
    "print(\"===== Result ====\")\n",
    "print('DCG={:.2f}, Ideal DCG={:.2f}, NDCG={:.2f}'.format(DCG, IDCG, NDCG))"
   ]
  },
  {
   "cell_type": "markdown",
   "metadata": {},
   "source": [
    "$$ERR=\\sum_{i=1}^k \\frac{1}{i} P(user\\ stops\\ at\\ position\\ i)$$\n",
    "\\begin{align}\n",
    "ERR=\\sum_{i=1}^k \\frac{1}{i} \\prod_{j=1}^{i-1}(1-R_j)R_i &&\n",
    "R = \\frac{2^{rel} - 1}{2^{max\\_rel}}\n",
    "\\end{align}"
   ]
  },
  {
   "cell_type": "code",
   "execution_count": 23,
   "metadata": {},
   "outputs": [
    {
     "name": "stdout",
     "output_type": "stream",
     "text": [
      "===== Iterations ====\n",
      "   probability       ERR\n",
      "0     0.562500  0.437500\n",
      "1     0.562500  0.000000\n",
      "2     0.035156  0.175781\n",
      "3     0.032959  0.000549\n",
      "===== Result ====\n",
      "ERR=0.61\n"
     ]
    }
   ],
   "source": [
    "ERR = 0.0\n",
    "err_list = []\n",
    "prob_step_down = 1.0\n",
    "prob_list = []\n",
    "    \n",
    "for r, rel in enumerate(reranked):\n",
    "    r += 1\n",
    "    R = (pow(2, rel) - 1) / pow(2, max_rank)\n",
    "    err_step = prob_step_down * R / r\n",
    "    ERR += err_step\n",
    "    err_list.append(err_step)\n",
    "\n",
    "    prob_step_down *= (1 - R)\n",
    "    prob_list.append(prob_step_down)\n",
    "    \n",
    "df_ERR = pandas.DataFrame({\n",
    "   'probability': prob_list,\n",
    "   'ERR': err_list\n",
    "})\n",
    "\n",
    "print(\"===== Iterations ====\")\n",
    "print(df_ERR)\n",
    "print(\"===== Result ====\")\n",
    "print('ERR={:.2f}'.format(ERR))"
   ]
  }
 ],
 "metadata": {
  "kernelspec": {
   "display_name": "Python 3",
   "language": "python",
   "name": "python3"
  },
  "language_info": {
   "codemirror_mode": {
    "name": "ipython",
    "version": 3
   },
   "file_extension": ".py",
   "mimetype": "text/x-python",
   "name": "python",
   "nbconvert_exporter": "python",
   "pygments_lexer": "ipython3",
   "version": "3.6.5"
  }
 },
 "nbformat": 4,
 "nbformat_minor": 2
}
